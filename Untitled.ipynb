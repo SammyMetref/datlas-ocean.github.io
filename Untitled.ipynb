{
 "cells": [
  {
   "cell_type": "code",
   "execution_count": 4,
   "id": "c34239be-6007-4558-83e5-f94bb52c2162",
   "metadata": {},
   "outputs": [],
   "source": [
    "import numpy as np\n",
    "N=20\n",
    "i=1/(np.sqrt(2*N))"
   ]
  },
  {
   "cell_type": "code",
   "execution_count": 5,
   "id": "71e72afc-d08b-461c-9c43-abbcec545bda",
   "metadata": {},
   "outputs": [
    {
     "data": {
      "text/plain": [
       "0.15811388300841897"
      ]
     },
     "execution_count": 5,
     "metadata": {},
     "output_type": "execute_result"
    }
   ],
   "source": [
    "i\n"
   ]
  },
  {
   "cell_type": "code",
   "execution_count": null,
   "id": "a8db451a-3be2-462e-8e74-1b30a6f03051",
   "metadata": {},
   "outputs": [],
   "source": []
  }
 ],
 "metadata": {
  "kernelspec": {
   "display_name": "Python 3",
   "language": "python",
   "name": "python3"
  },
  "language_info": {
   "codemirror_mode": {
    "name": "ipython",
    "version": 3
   },
   "file_extension": ".py",
   "mimetype": "text/x-python",
   "name": "python",
   "nbconvert_exporter": "python",
   "pygments_lexer": "ipython3",
   "version": "3.5.5"
  }
 },
 "nbformat": 4,
 "nbformat_minor": 5
}
